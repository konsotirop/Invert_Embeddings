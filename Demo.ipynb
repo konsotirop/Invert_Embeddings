{
 "cells": [
  {
   "cell_type": "code",
   "execution_count": 1,
   "metadata": {},
   "outputs": [],
   "source": [
    "from invert_embeddings import *\n",
    "from network_stats import *\n",
    "from predict import *"
   ]
  },
  {
   "cell_type": "code",
   "execution_count": 2,
   "metadata": {},
   "outputs": [],
   "source": [
    "# Dataset\n",
    "network_name = \"sbm4.mat\"\n",
    "# Optimization Rank\n",
    "rank = 128\n",
    "# Window Size (T)\n",
    "window = 10"
   ]
  },
  {
   "cell_type": "markdown",
   "metadata": {},
   "source": [
    "## Load Network and Low-dimensional Embedding"
   ]
  },
  {
   "cell_type": "code",
   "execution_count": 3,
   "metadata": {},
   "outputs": [
    {
     "name": "stderr",
     "output_type": "stream",
     "text": [
      "/opt/anaconda3/lib/python3.7/site-packages/scipy/sparse/_index.py:126: SparseEfficiencyWarning: Changing the sparsity structure of a csc_matrix is expensive. lil_matrix is more efficient.\n",
      "  self._set_arrayXarray(i, j, x)\n"
     ]
    }
   ],
   "source": [
    "N = Network( )\n",
    "# Load network\n",
    "N.loadNetwork( network_name, True )\n",
    "# Get largest connected component\n",
    "N.standardize()\n",
    "# PMI or PPMI matrix\n",
    "skip_max = False\n",
    "# Calculate (P)PMI matrix\n",
    "N.netmf_embedding( window, skip_max )\n",
    "# And low-rank dimensional embedding\n",
    "N.low_rank_embedding( rank )"
   ]
  },
  {
   "cell_type": "markdown",
   "metadata": {},
   "source": [
    "## Optimization Step"
   ]
  },
  {
   "cell_type": "code",
   "execution_count": null,
   "metadata": {},
   "outputs": [],
   "source": [
    "# Instantiate class\n",
    "# Parameters: Adjacency Matrix, Low-Dimensional Embedding, Filename, (Deprecated Argument), Rank\n",
    "P = Optimizer( N.getAdjacency(), N.get_LR_embedding(), network_name, 1, str(rank) )\n",
    "P.learnNetwork() "
   ]
  },
  {
   "cell_type": "markdown",
   "metadata": {},
   "source": [
    "## Network Reconstruction"
   ]
  },
  {
   "cell_type": "code",
   "execution_count": 5,
   "metadata": {},
   "outputs": [],
   "source": [
    "# Binarization method\n",
    "method = \"coin_toss\"\n",
    "# Print network statistics for true and reconstructed network\n",
    "recon_network_stats = collectStatistics( network_name, method )"
   ]
  },
  {
   "cell_type": "code",
   "execution_count": 6,
   "metadata": {},
   "outputs": [
    {
     "name": "stdout",
     "output_type": "stream",
     "text": [
      "* Relative Adjacency Error: 0.7534720779221654\n",
      "* Triangles, Original: 41976, Reconstructed: 58942\n",
      "* Average Path Length, Original: 2.122629202207727, Reconstructed: 2.112393376818866\n",
      "* Conductance of Ground-Truth Communities\n",
      "Community Index: 0\n",
      "Conductance(True Network): 0.0956274180597124, Conductance(Reconstructed Network): 0.11597128843261491\n",
      "Community Index: 1\n",
      "Conductance(True Network): 0.09573224203449283, Conductance(Reconstructed Network): 0.11604234880676369\n"
     ]
    }
   ],
   "source": [
    "print(\"* Relative Adjacency Error: {}\".format(recon_network_stats['rank'+str(rank)]['frobenius']))\n",
    "print(\"* Triangles, Original: {}, Reconstructed: {}\".format(recon_network_stats['true']['triangles'], recon_network_stats['rank'+str(rank)]['triangles']))\n",
    "print(\"* Average Path Length, Original: {}, Reconstructed: {}\".format(recon_network_stats['true']['apl'], recon_network_stats['rank'+str(rank)+'bin']['apl']))\n",
    "print(\"* Conductance of Ground-Truth Communities\")\n",
    "for community, conductance in recon_network_stats['true']['conductance'].items():\n",
    "    print(\"Community Index: {}\".format(community))\n",
    "    recon_conductance = recon_network_stats['rank'+str(rank)]['conductance'][community]\n",
    "    print(\"Conductance(True Network): {}, Conductance(Reconstructed Network): {}\".format(conductance, recon_conductance))"
   ]
  },
  {
   "cell_type": "markdown",
   "metadata": {},
   "source": [
    "## Node Classification"
   ]
  },
  {
   "cell_type": "code",
   "execution_count": 13,
   "metadata": {},
   "outputs": [
    {
     "name": "stdout",
     "output_type": "stream",
     "text": [
      " -- Train Ratio: 0.1 --\n",
      "True Network Micro-F1:\n",
      "100.0\n",
      "Reconstructed Network Micro-F1:\n",
      "100.0\n",
      " -- Train Ratio: 0.9 --\n",
      "True Network Micro-F1:\n",
      "100.0\n",
      "Reconstructed Network Micro-F1:\n",
      "100.0\n"
     ]
    }
   ],
   "source": [
    "labels = N.getLabels()\n",
    "labels[np.all(labels, axis=0)]\n",
    "\n",
    "# And low-rank dimensional embedding\n",
    "filename = os.path.splitext( network_name )[0]\n",
    "folder = 'adj_recon/'\n",
    "reconstructed_network = folder +  filename + '_' + str(rank) +'_recon_elts.npy'\n",
    "Recon = Reconstructed( *N.getNodesVolume() )\n",
    "Recon.loadNetwork( reconstructed_network, method )\n",
    "Recon.netmf_embedding( window, skip_max )\n",
    "Recon.low_rank_embedding( rank )\n",
    "\n",
    "for train_ratio in [0.1,0.9]:\n",
    "    print(\" -- Train Ratio: {} --\".format(train_ratio))\n",
    "    print(\"True Network Micro-F1:\")\n",
    "    print(predict_cv(N.LR_Embedding, labels, train_ratio, n_splits=10, random_state=0, C=1.)[0])\n",
    "    print(\"Reconstructed Network Micro-F1:\")\n",
    "    print(predict_cv(Recon.LR_Embedding, labels, train_ratio, n_splits=10, random_state=0, C=1.)[0])"
   ]
  }
 ],
 "metadata": {
  "kernelspec": {
   "display_name": "Python 3",
   "language": "python",
   "name": "python3"
  },
  "language_info": {
   "codemirror_mode": {
    "name": "ipython",
    "version": 3
   },
   "file_extension": ".py",
   "mimetype": "text/x-python",
   "name": "python",
   "nbconvert_exporter": "python",
   "pygments_lexer": "ipython3",
   "version": "3.8.5"
  }
 },
 "nbformat": 4,
 "nbformat_minor": 2
}
